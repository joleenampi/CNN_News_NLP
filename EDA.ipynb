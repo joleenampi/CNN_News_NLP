{
 "cells": [
  {
   "cell_type": "code",
   "execution_count": 2,
   "id": "ea6b56f9",
   "metadata": {},
   "outputs": [],
   "source": [
    "import numpy as np\n",
    "import pandas as pd\n",
    "\n",
    "from tqdm.notebook import tqdm\n",
    "import matplotlib.pyplot as plt\n",
    "\n",
    "import spacy\n",
    "import nltk"
   ]
  },
  {
   "cell_type": "code",
   "execution_count": 3,
   "id": "b8c14d8e",
   "metadata": {},
   "outputs": [],
   "source": [
    "df = pd.read_csv('CNN_Articels_clean.csv')"
   ]
  },
  {
   "cell_type": "code",
   "execution_count": 4,
   "id": "c39ee5b3",
   "metadata": {
    "scrolled": false
   },
   "outputs": [
    {
     "data": {
      "text/html": [
       "<div>\n",
       "<style scoped>\n",
       "    .dataframe tbody tr th:only-of-type {\n",
       "        vertical-align: middle;\n",
       "    }\n",
       "\n",
       "    .dataframe tbody tr th {\n",
       "        vertical-align: top;\n",
       "    }\n",
       "\n",
       "    .dataframe thead th {\n",
       "        text-align: right;\n",
       "    }\n",
       "</style>\n",
       "<table border=\"1\" class=\"dataframe\">\n",
       "  <thead>\n",
       "    <tr style=\"text-align: right;\">\n",
       "      <th></th>\n",
       "      <th>Index</th>\n",
       "      <th>Author</th>\n",
       "      <th>Date published</th>\n",
       "      <th>Category</th>\n",
       "      <th>Section</th>\n",
       "      <th>Url</th>\n",
       "      <th>Headline</th>\n",
       "      <th>Description</th>\n",
       "      <th>Keywords</th>\n",
       "      <th>Second headline</th>\n",
       "      <th>Article text</th>\n",
       "    </tr>\n",
       "  </thead>\n",
       "  <tbody>\n",
       "    <tr>\n",
       "      <th>0</th>\n",
       "      <td>0</td>\n",
       "      <td>Jacopo Prisco, CNN</td>\n",
       "      <td>2021-07-15 02:46:59</td>\n",
       "      <td>news</td>\n",
       "      <td>world</td>\n",
       "      <td>https://www.cnn.com/2021/07/14/world/tusimple-...</td>\n",
       "      <td>There's a shortage of truckers, but TuSimple t...</td>\n",
       "      <td>The e-commerce boom has exacerbated a global t...</td>\n",
       "      <td>world, There's a shortage of truckers, but TuS...</td>\n",
       "      <td>There's a shortage of truckers, but TuSimple t...</td>\n",
       "      <td>(CNN)Right now, there's a shortage of truck d...</td>\n",
       "    </tr>\n",
       "    <tr>\n",
       "      <th>1</th>\n",
       "      <td>1</td>\n",
       "      <td>Stephanie Bailey, CNN</td>\n",
       "      <td>2021-05-12 07:52:09</td>\n",
       "      <td>news</td>\n",
       "      <td>world</td>\n",
       "      <td>https://www.cnn.com/2021/05/12/world/ironhand-...</td>\n",
       "      <td>Bioservo's robotic 'Ironhand' could protect fa...</td>\n",
       "      <td>Working in a factory can mean doing the same t...</td>\n",
       "      <td>world, Bioservo's robotic 'Ironhand' could pro...</td>\n",
       "      <td>A robotic 'Ironhand' could protect factory wor...</td>\n",
       "      <td>(CNN)Working in a factory or warehouse can me...</td>\n",
       "    </tr>\n",
       "    <tr>\n",
       "      <th>2</th>\n",
       "      <td>2</td>\n",
       "      <td>Words by Stephanie Bailey, video by Zahra Jamshed</td>\n",
       "      <td>2021-06-16 02:51:30</td>\n",
       "      <td>news</td>\n",
       "      <td>asia</td>\n",
       "      <td>https://www.cnn.com/2021/06/15/asia/swarm-robo...</td>\n",
       "      <td>This swarm of robots gets smarter the more it ...</td>\n",
       "      <td>In a Hong Kong warehouse, a swarm of autonomou...</td>\n",
       "      <td>asia, This swarm of robots gets smarter the mo...</td>\n",
       "      <td>This swarm of robots gets smarter the more it ...</td>\n",
       "      <td>(CNN)In a Hong Kong warehouse, a swarm of aut...</td>\n",
       "    </tr>\n",
       "    <tr>\n",
       "      <th>3</th>\n",
       "      <td>3</td>\n",
       "      <td>Kathryn Vasel</td>\n",
       "      <td>2022-03-18 14:37:21</td>\n",
       "      <td>business</td>\n",
       "      <td>success</td>\n",
       "      <td>https://www.cnn.com/2022/03/18/success/pandemi...</td>\n",
       "      <td>Two years later, remote work has changed milli...</td>\n",
       "      <td>Here's a look at how the pandemic reshaped peo...</td>\n",
       "      <td>success, Two years later, remote work has chan...</td>\n",
       "      <td>Two years later, remote work has changed milli...</td>\n",
       "      <td>The pandemic thrust the working world into a n...</td>\n",
       "    </tr>\n",
       "    <tr>\n",
       "      <th>4</th>\n",
       "      <td>4</td>\n",
       "      <td>Paul R. La Monica, CNN Business</td>\n",
       "      <td>2022-03-19 11:41:08</td>\n",
       "      <td>business</td>\n",
       "      <td>investing</td>\n",
       "      <td>https://www.cnn.com/2022/03/19/investing/march...</td>\n",
       "      <td>Why March is so volatile for stocks - CNN</td>\n",
       "      <td>March Madness isn't just for college basketbal...</td>\n",
       "      <td>investing, Why March is so volatile for stocks...</td>\n",
       "      <td>Why March is so volatile for stocks</td>\n",
       "      <td>New York (CNN Business)March Madness isn't jus...</td>\n",
       "    </tr>\n",
       "  </tbody>\n",
       "</table>\n",
       "</div>"
      ],
      "text/plain": [
       "   Index                                             Author  \\\n",
       "0      0                                 Jacopo Prisco, CNN   \n",
       "1      1                              Stephanie Bailey, CNN   \n",
       "2      2  Words by Stephanie Bailey, video by Zahra Jamshed   \n",
       "3      3                                     Kathryn Vasel    \n",
       "4      4                    Paul R. La Monica, CNN Business   \n",
       "\n",
       "        Date published  Category    Section  \\\n",
       "0  2021-07-15 02:46:59      news      world   \n",
       "1  2021-05-12 07:52:09      news      world   \n",
       "2  2021-06-16 02:51:30      news       asia   \n",
       "3  2022-03-18 14:37:21  business    success   \n",
       "4  2022-03-19 11:41:08  business  investing   \n",
       "\n",
       "                                                 Url  \\\n",
       "0  https://www.cnn.com/2021/07/14/world/tusimple-...   \n",
       "1  https://www.cnn.com/2021/05/12/world/ironhand-...   \n",
       "2  https://www.cnn.com/2021/06/15/asia/swarm-robo...   \n",
       "3  https://www.cnn.com/2022/03/18/success/pandemi...   \n",
       "4  https://www.cnn.com/2022/03/19/investing/march...   \n",
       "\n",
       "                                            Headline  \\\n",
       "0  There's a shortage of truckers, but TuSimple t...   \n",
       "1  Bioservo's robotic 'Ironhand' could protect fa...   \n",
       "2  This swarm of robots gets smarter the more it ...   \n",
       "3  Two years later, remote work has changed milli...   \n",
       "4          Why March is so volatile for stocks - CNN   \n",
       "\n",
       "                                         Description  \\\n",
       "0  The e-commerce boom has exacerbated a global t...   \n",
       "1  Working in a factory can mean doing the same t...   \n",
       "2  In a Hong Kong warehouse, a swarm of autonomou...   \n",
       "3  Here's a look at how the pandemic reshaped peo...   \n",
       "4  March Madness isn't just for college basketbal...   \n",
       "\n",
       "                                            Keywords  \\\n",
       "0  world, There's a shortage of truckers, but TuS...   \n",
       "1  world, Bioservo's robotic 'Ironhand' could pro...   \n",
       "2  asia, This swarm of robots gets smarter the mo...   \n",
       "3  success, Two years later, remote work has chan...   \n",
       "4  investing, Why March is so volatile for stocks...   \n",
       "\n",
       "                                     Second headline  \\\n",
       "0  There's a shortage of truckers, but TuSimple t...   \n",
       "1  A robotic 'Ironhand' could protect factory wor...   \n",
       "2  This swarm of robots gets smarter the more it ...   \n",
       "3  Two years later, remote work has changed milli...   \n",
       "4                Why March is so volatile for stocks   \n",
       "\n",
       "                                        Article text  \n",
       "0   (CNN)Right now, there's a shortage of truck d...  \n",
       "1   (CNN)Working in a factory or warehouse can me...  \n",
       "2   (CNN)In a Hong Kong warehouse, a swarm of aut...  \n",
       "3  The pandemic thrust the working world into a n...  \n",
       "4  New York (CNN Business)March Madness isn't jus...  "
      ]
     },
     "execution_count": 4,
     "metadata": {},
     "output_type": "execute_result"
    }
   ],
   "source": [
    "df.head()"
   ]
  },
  {
   "cell_type": "markdown",
   "id": "fc5180e9",
   "metadata": {},
   "source": [
    "### We'll take a look at the distribution of categories and sections as labels for classification."
   ]
  },
  {
   "cell_type": "code",
   "execution_count": 48,
   "id": "a6fcfe78",
   "metadata": {},
   "outputs": [],
   "source": [
    "gb_cat = df.groupby('Category').size().reset_index(name='Count')"
   ]
  },
  {
   "cell_type": "code",
   "execution_count": 50,
   "id": "c0e685de",
   "metadata": {},
   "outputs": [
    {
     "data": {
      "image/png": "[encoded data removed]",
      "text/plain": [
       "<Figure size 432x288 with 1 Axes>"
      ]
     },
     "metadata": {
      "needs_background": "light"
     },
     "output_type": "display_data"
    }
   ],
   "source": [
    "fig, ax = plt.subplots()\n",
    "\n",
    "ax.barh(gb_cat['Category'], gb_cat['Count'])\n",
    "\n",
    "ax.spines['top'].set_visible(False)\n",
    "ax.spines['right'].set_visible(False)\n",
    "\n",
    "plt.title('CNN News Article Categories')\n",
    "plt.show()"
   ]
  },
  {
   "cell_type": "code",
   "execution_count": 185,
   "id": "b292c3f9",
   "metadata": {},
   "outputs": [
    {
     "data": {
      "text/html": [
       "<div>\n",
       "<style scoped>\n",
       "    .dataframe tbody tr th:only-of-type {\n",
       "        vertical-align: middle;\n",
       "    }\n",
       "\n",
       "    .dataframe tbody tr th {\n",
       "        vertical-align: top;\n",
       "    }\n",
       "\n",
       "    .dataframe thead th {\n",
       "        text-align: right;\n",
       "    }\n",
       "</style>\n",
       "<table border=\"1\" class=\"dataframe\">\n",
       "  <thead>\n",
       "    <tr style=\"text-align: right;\">\n",
       "      <th></th>\n",
       "      <th>Category</th>\n",
       "      <th>Count</th>\n",
       "    </tr>\n",
       "  </thead>\n",
       "  <tbody>\n",
       "    <tr>\n",
       "      <th>0</th>\n",
       "      <td>business</td>\n",
       "      <td>854</td>\n",
       "    </tr>\n",
       "    <tr>\n",
       "      <th>1</th>\n",
       "      <td>entertainment</td>\n",
       "      <td>413</td>\n",
       "    </tr>\n",
       "    <tr>\n",
       "      <th>2</th>\n",
       "      <td>health</td>\n",
       "      <td>557</td>\n",
       "    </tr>\n",
       "    <tr>\n",
       "      <th>3</th>\n",
       "      <td>news</td>\n",
       "      <td>18077</td>\n",
       "    </tr>\n",
       "    <tr>\n",
       "      <th>4</th>\n",
       "      <td>politics</td>\n",
       "      <td>2461</td>\n",
       "    </tr>\n",
       "    <tr>\n",
       "      <th>5</th>\n",
       "      <td>sport</td>\n",
       "      <td>15542</td>\n",
       "    </tr>\n",
       "    <tr>\n",
       "      <th>6</th>\n",
       "      <td>style</td>\n",
       "      <td>1</td>\n",
       "    </tr>\n",
       "    <tr>\n",
       "      <th>7</th>\n",
       "      <td>travel</td>\n",
       "      <td>39</td>\n",
       "    </tr>\n",
       "    <tr>\n",
       "      <th>8</th>\n",
       "      <td>vr</td>\n",
       "      <td>5</td>\n",
       "    </tr>\n",
       "  </tbody>\n",
       "</table>\n",
       "</div>"
      ],
      "text/plain": [
       "        Category  Count\n",
       "0       business    854\n",
       "1  entertainment    413\n",
       "2         health    557\n",
       "3           news  18077\n",
       "4       politics   2461\n",
       "5          sport  15542\n",
       "6          style      1\n",
       "7         travel     39\n",
       "8             vr      5"
      ]
     },
     "execution_count": 185,
     "metadata": {},
     "output_type": "execute_result"
    }
   ],
   "source": [
    "gb_cat"
   ]
  },
  {
   "cell_type": "code",
   "execution_count": 51,
   "id": "179fce4e",
   "metadata": {},
   "outputs": [],
   "source": [
    "gb_sec = df.groupby('Section').size().reset_index(name='Count')"
   ]
  },
  {
   "cell_type": "code",
   "execution_count": 72,
   "id": "95b95acd",
   "metadata": {},
   "outputs": [],
   "source": [
    "temp_gb_sec = gb_sec[gb_sec['Count'] > 50]"
   ]
  },
  {
   "cell_type": "code",
   "execution_count": 73,
   "id": "89900d33",
   "metadata": {
    "scrolled": true
   },
   "outputs": [
    {
     "data": {
      "image/png": "[encoded data removed]",
      "text/plain": [
       "<Figure size 720x576 with 1 Axes>"
      ]
     },
     "metadata": {
      "needs_background": "light"
     },
     "output_type": "display_data"
    }
   ],
   "source": [
    "fig, ax = plt.subplots(figsize=(10,8))\n",
    "\n",
    "ax.barh(temp_gb_sec['Section'], temp_gb_sec['Count'])\n",
    "\n",
    "ax.spines['top'].set_visible(False)\n",
    "ax.spines['right'].set_visible(False)\n",
    "\n",
    "plt.title('CNN News Article Sections')\n",
    "plt.show()"
   ]
  },
  {
   "cell_type": "code",
   "execution_count": 192,
   "id": "6f7e1182",
   "metadata": {},
   "outputs": [
    {
     "data": {
      "text/plain": [
       "302"
      ]
     },
     "execution_count": 192,
     "metadata": {},
     "output_type": "execute_result"
    }
   ],
   "source": [
    "sum(gb_sec[gb_sec['Count'] <= 50]['Count'])"
   ]
  },
  {
   "cell_type": "markdown",
   "id": "93a9cfb6",
   "metadata": {},
   "source": [
    "### Data cleaning and headline tokenization"
   ]
  },
  {
   "cell_type": "code",
   "execution_count": 160,
   "id": "71ed93da",
   "metadata": {},
   "outputs": [],
   "source": [
    "import string\n",
    "import re\n",
    "from collections import Counter\n",
    "from nltk.corpus import stopwords\n",
    "\n",
    "nlp = spacy.load('en_core_web_sm')\n",
    "stopwords = stopwords.words('english')"
   ]
  },
  {
   "cell_type": "code",
   "execution_count": 195,
   "id": "b5314fd3",
   "metadata": {},
   "outputs": [],
   "source": [
    "stopwords.append('cnn') # add cnn to stopwords\n",
    "stopwords.append(' ') # add space to stopwords.."
   ]
  },
  {
   "cell_type": "code",
   "execution_count": 196,
   "id": "92f1eb7c",
   "metadata": {},
   "outputs": [
    {
     "data": {
      "text/plain": [
       "['Bioservo',\n",
       " \"'s\",\n",
       " 'robotic',\n",
       " \"'\",\n",
       " 'Ironhand',\n",
       " \"'\",\n",
       " 'could',\n",
       " 'protect',\n",
       " 'factory',\n",
       " 'worker',\n",
       " 'injury',\n",
       " '-',\n",
       " 'CNN']"
      ]
     },
     "execution_count": 196,
     "metadata": {},
     "output_type": "execute_result"
    }
   ],
   "source": [
    "[t.lemma_ for t in nlp(df.iloc[1]['Headline']) if t.lemma_ not in stopwords]"
   ]
  },
  {
   "cell_type": "code",
   "execution_count": 197,
   "id": "3b127d7b",
   "metadata": {},
   "outputs": [
    {
     "data": {
      "application/vnd.jupyter.widget-view+json": {
       "model_id": "b4640d9d8ccf40338e41fbb74a8fba9e",
       "version_major": 2,
       "version_minor": 0
      },
      "text/plain": [
       "  0%|          | 0/37949 [00:00<?, ?it/s]"
      ]
     },
     "metadata": {},
     "output_type": "display_data"
    }
   ],
   "source": [
    "headlines = []\n",
    "\n",
    "for idx in tqdm(range(len(df))):\n",
    "    head = df.iloc[idx]['Headline']\n",
    "    \n",
    "    head = re.sub(\"[^A-Za-z']+\", ' ', head.replace('<br />', ' ')).lower()\n",
    "    head = head.translate(str.maketrans('', '', string.punctuation))\n",
    "    \n",
    "    tokenized_headline = [t.lemma_ for t in nlp(head) if t.lemma_ not in stopwords]\n",
    "    headlines.append(tokenized_headline)"
   ]
  },
  {
   "cell_type": "code",
   "execution_count": 198,
   "id": "4d27d448",
   "metadata": {},
   "outputs": [],
   "source": [
    "df['clean_headline'] = headlines"
   ]
  },
  {
   "cell_type": "markdown",
   "id": "8f731e76",
   "metadata": {},
   "source": [
    "### We'll also take a look at the top 25 most common words that appear in the headlines for each category."
   ]
  },
  {
   "cell_type": "code",
   "execution_count": 199,
   "id": "5f828e36",
   "metadata": {},
   "outputs": [],
   "source": [
    "from sklearn.model_selection import train_test_split\n",
    "train_df, val_df = train_test_split(df, test_size=0.2)"
   ]
  },
  {
   "cell_type": "code",
   "execution_count": 200,
   "id": "843d2663",
   "metadata": {},
   "outputs": [],
   "source": [
    "sport_df = train_df[train_df['Category']=='sport']\n",
    "\n",
    "sport_word_freq = Counter([t for headline in sport_df['clean_headline'] for t in headline]).most_common()\n",
    "\n",
    "sport_word_freq_dict = dict(sport_word_freq)\n",
    "\n",
    "sport_word_df = pd.DataFrame(sport_word_freq_dict.items(), columns=['word', 'count'])"
   ]
  },
  {
   "cell_type": "code",
   "execution_count": 201,
   "id": "123f00a3",
   "metadata": {
    "scrolled": true
   },
   "outputs": [
    {
     "data": {
      "text/html": [
       "<div>\n",
       "<style scoped>\n",
       "    .dataframe tbody tr th:only-of-type {\n",
       "        vertical-align: middle;\n",
       "    }\n",
       "\n",
       "    .dataframe tbody tr th {\n",
       "        vertical-align: top;\n",
       "    }\n",
       "\n",
       "    .dataframe thead th {\n",
       "        text-align: right;\n",
       "    }\n",
       "</style>\n",
       "<table border=\"1\" class=\"dataframe\">\n",
       "  <thead>\n",
       "    <tr style=\"text-align: right;\">\n",
       "      <th></th>\n",
       "      <th>word</th>\n",
       "      <th>count</th>\n",
       "    </tr>\n",
       "  </thead>\n",
       "  <tbody>\n",
       "    <tr>\n",
       "      <th>24</th>\n",
       "      <td>australian</td>\n",
       "      <td>276</td>\n",
       "    </tr>\n",
       "    <tr>\n",
       "      <th>23</th>\n",
       "      <td>year</td>\n",
       "      <td>284</td>\n",
       "    </tr>\n",
       "    <tr>\n",
       "      <th>22</th>\n",
       "      <td>wood</td>\n",
       "      <td>286</td>\n",
       "    </tr>\n",
       "    <tr>\n",
       "      <th>21</th>\n",
       "      <td>djokovic</td>\n",
       "      <td>290</td>\n",
       "    </tr>\n",
       "    <tr>\n",
       "      <th>20</th>\n",
       "      <td>make</td>\n",
       "      <td>310</td>\n",
       "    </tr>\n",
       "    <tr>\n",
       "      <th>19</th>\n",
       "      <td>f</td>\n",
       "      <td>338</td>\n",
       "    </tr>\n",
       "    <tr>\n",
       "      <th>18</th>\n",
       "      <td>record</td>\n",
       "      <td>341</td>\n",
       "    </tr>\n",
       "    <tr>\n",
       "      <th>17</th>\n",
       "      <td>game</td>\n",
       "      <td>342</td>\n",
       "    </tr>\n",
       "    <tr>\n",
       "      <th>16</th>\n",
       "      <td>manchester</td>\n",
       "      <td>349</td>\n",
       "    </tr>\n",
       "    <tr>\n",
       "      <th>15</th>\n",
       "      <td>team</td>\n",
       "      <td>350</td>\n",
       "    </tr>\n",
       "    <tr>\n",
       "      <th>14</th>\n",
       "      <td>olympic</td>\n",
       "      <td>371</td>\n",
       "    </tr>\n",
       "    <tr>\n",
       "      <th>13</th>\n",
       "      <td>champion</td>\n",
       "      <td>398</td>\n",
       "    </tr>\n",
       "    <tr>\n",
       "      <th>12</th>\n",
       "      <td>new</td>\n",
       "      <td>399</td>\n",
       "    </tr>\n",
       "    <tr>\n",
       "      <th>11</th>\n",
       "      <td>football</td>\n",
       "      <td>401</td>\n",
       "    </tr>\n",
       "    <tr>\n",
       "      <th>10</th>\n",
       "      <td>player</td>\n",
       "      <td>403</td>\n",
       "    </tr>\n",
       "    <tr>\n",
       "      <th>9</th>\n",
       "      <td>first</td>\n",
       "      <td>404</td>\n",
       "    </tr>\n",
       "    <tr>\n",
       "      <th>8</th>\n",
       "      <td>title</td>\n",
       "      <td>439</td>\n",
       "    </tr>\n",
       "    <tr>\n",
       "      <th>7</th>\n",
       "      <td>final</td>\n",
       "      <td>445</td>\n",
       "    </tr>\n",
       "    <tr>\n",
       "      <th>6</th>\n",
       "      <td>star</td>\n",
       "      <td>535</td>\n",
       "    </tr>\n",
       "    <tr>\n",
       "      <th>5</th>\n",
       "      <td>say</td>\n",
       "      <td>547</td>\n",
       "    </tr>\n",
       "    <tr>\n",
       "      <th>4</th>\n",
       "      <td>league</td>\n",
       "      <td>646</td>\n",
       "    </tr>\n",
       "    <tr>\n",
       "      <th>3</th>\n",
       "      <td>open</td>\n",
       "      <td>817</td>\n",
       "    </tr>\n",
       "    <tr>\n",
       "      <th>2</th>\n",
       "      <td>cup</td>\n",
       "      <td>819</td>\n",
       "    </tr>\n",
       "    <tr>\n",
       "      <th>1</th>\n",
       "      <td>world</td>\n",
       "      <td>936</td>\n",
       "    </tr>\n",
       "    <tr>\n",
       "      <th>0</th>\n",
       "      <td>win</td>\n",
       "      <td>1117</td>\n",
       "    </tr>\n",
       "  </tbody>\n",
       "</table>\n",
       "</div>"
      ],
      "text/plain": [
       "          word  count\n",
       "24  australian    276\n",
       "23        year    284\n",
       "22        wood    286\n",
       "21    djokovic    290\n",
       "20        make    310\n",
       "19           f    338\n",
       "18      record    341\n",
       "17        game    342\n",
       "16  manchester    349\n",
       "15        team    350\n",
       "14     olympic    371\n",
       "13    champion    398\n",
       "12         new    399\n",
       "11    football    401\n",
       "10      player    403\n",
       "9        first    404\n",
       "8        title    439\n",
       "7        final    445\n",
       "6         star    535\n",
       "5          say    547\n",
       "4       league    646\n",
       "3         open    817\n",
       "2          cup    819\n",
       "1        world    936\n",
       "0          win   1117"
      ]
     },
     "execution_count": 201,
     "metadata": {},
     "output_type": "execute_result"
    }
   ],
   "source": [
    "sport_word_df[0:25][::-1]"
   ]
  },
  {
   "cell_type": "code",
   "execution_count": 202,
   "id": "6109399f",
   "metadata": {},
   "outputs": [
    {
     "data": {
      "image/png": "[encoded data removed]",
      "text/plain": [
       "<Figure size 720x576 with 1 Axes>"
      ]
     },
     "metadata": {
      "needs_background": "light"
     },
     "output_type": "display_data"
    }
   ],
   "source": [
    "fig, ax = plt.subplots(figsize=(10,8))\n",
    "\n",
    "ax.barh(sport_word_df['word'][0:25][::-1], sport_word_df['count'][0:25][::-1])\n",
    "\n",
    "ax.spines['top'].set_visible(False)\n",
    "ax.spines['right'].set_visible(False)\n",
    "\n",
    "plt.title('CNN \"Sports\" Common Words')\n",
    "plt.show()"
   ]
  },
  {
   "cell_type": "code",
   "execution_count": 203,
   "id": "2f0cb7ec",
   "metadata": {},
   "outputs": [],
   "source": [
    "news_df = train_df[train_df['Category']=='news']\n",
    "\n",
    "news_word_freq = Counter([t for headline in news_df['clean_headline'] for t in headline]).most_common()\n",
    "\n",
    "news_word_freq_dict = dict(news_word_freq)\n",
    "\n",
    "news_word_df = pd.DataFrame(news_word_freq_dict.items(), columns=['word', 'count'])"
   ]
  },
  {
   "cell_type": "code",
   "execution_count": 204,
   "id": "32a92ae3",
   "metadata": {},
   "outputs": [
    {
     "data": {
      "image/png": "[encoded data removed]",
      "text/plain": [
       "<Figure size 720x576 with 1 Axes>"
      ]
     },
     "metadata": {
      "needs_background": "light"
     },
     "output_type": "display_data"
    }
   ],
   "source": [
    "fig, ax = plt.subplots(figsize=(10,8))\n",
    "\n",
    "ax.barh(news_word_df['word'][0:25][::-1], news_word_df['count'][0:25][::-1])\n",
    "\n",
    "ax.spines['top'].set_visible(False)\n",
    "ax.spines['right'].set_visible(False)\n",
    "\n",
    "plt.title('CNN \"News\" Common Words')\n",
    "plt.show()"
   ]
  },
  {
   "cell_type": "code",
   "execution_count": 205,
   "id": "68a34619",
   "metadata": {},
   "outputs": [],
   "source": [
    "politics_df = train_df[train_df['Category']=='politics']\n",
    "\n",
    "politics_word_freq = Counter([t for headline in politics_df['clean_headline'] for t in headline]).most_common()\n",
    "\n",
    "politics_word_freq_dict = dict(politics_word_freq)\n",
    "\n",
    "politics_word_df = pd.DataFrame(politics_word_freq_dict.items(), columns=['word', 'count'])"
   ]
  },
  {
   "cell_type": "code",
   "execution_count": 206,
   "id": "c5c588ee",
   "metadata": {},
   "outputs": [
    {
     "data": {
      "image/png": "[encoded data removed]",
      "text/plain": [
       "<Figure size 720x576 with 1 Axes>"
      ]
     },
     "metadata": {
      "needs_background": "light"
     },
     "output_type": "display_data"
    }
   ],
   "source": [
    "fig, ax = plt.subplots(figsize=(10,8))\n",
    "\n",
    "ax.barh(politics_word_df['word'][1:26][::-1], politics_word_df['count'][1:26][::-1])\n",
    "\n",
    "ax.spines['top'].set_visible(False)\n",
    "ax.spines['right'].set_visible(False)\n",
    "\n",
    "plt.title('CNN Politics News Common Words')\n",
    "plt.show()"
   ]
  },
  {
   "cell_type": "code",
   "execution_count": 207,
   "id": "39404f26",
   "metadata": {},
   "outputs": [],
   "source": [
    "entertain_df = train_df[train_df['Category']=='entertainment']\n",
    "\n",
    "entertain_word_freq = Counter([t for headline in entertain_df['clean_headline'] for t in headline]).most_common()\n",
    "\n",
    "entertain_word_freq_dict = dict(entertain_word_freq)\n",
    "\n",
    "entertain_word_df = pd.DataFrame(entertain_word_freq_dict.items(), columns=['word', 'count'])"
   ]
  },
  {
   "cell_type": "code",
   "execution_count": 208,
   "id": "e9313b6c",
   "metadata": {},
   "outputs": [
    {
     "data": {
      "image/png": "[encoded data removed]",
      "text/plain": [
       "<Figure size 720x576 with 1 Axes>"
      ]
     },
     "metadata": {
      "needs_background": "light"
     },
     "output_type": "display_data"
    }
   ],
   "source": [
    "fig, ax = plt.subplots(figsize=(10,8))\n",
    "\n",
    "ax.barh(entertain_word_df['word'][0:25][::-1], entertain_word_df['count'][0:25][::-1])\n",
    "\n",
    "ax.spines['top'].set_visible(False)\n",
    "ax.spines['right'].set_visible(False)\n",
    "\n",
    "plt.title('CNN Entertainment News Common Words')\n",
    "plt.show()"
   ]
  },
  {
   "cell_type": "code",
   "execution_count": null,
   "id": "e911f962",
   "metadata": {},
   "outputs": [],
   "source": []
  }
 ],
 "metadata": {
  "kernelspec": {
   "display_name": "Python 3",
   "language": "python",
   "name": "python3"
  },
  "language_info": {
   "codemirror_mode": {
    "name": "ipython",
    "version": 3
   },
   "file_extension": ".py",
   "mimetype": "text/x-python",
   "name": "python",
   "nbconvert_exporter": "python",
   "pygments_lexer": "ipython3",
   "version": "3.8.8"
  }
 },
 "nbformat": 4,
 "nbformat_minor": 5
}
